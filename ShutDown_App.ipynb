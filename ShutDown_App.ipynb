{
  "cells": [
    {
      "cell_type": "markdown",
      "metadata": {
        "id": "view-in-github",
        "colab_type": "text"
      },
      "source": [
        "<a href=\"https://colab.research.google.com/github/DharmeshRV/ShutDown-App-in-python/blob/main/ShutDown_App.ipynb\" target=\"_parent\"><img src=\"https://colab.research.google.com/assets/colab-badge.svg\" alt=\"Open In Colab\"/></a>"
      ]
    },
    {
      "cell_type": "code",
      "execution_count": null,
      "id": "9734c029",
      "metadata": {
        "id": "9734c029"
      },
      "outputs": [],
      "source": [
        "from tkinter import *\n",
        "import os"
      ]
    },
    {
      "cell_type": "code",
      "execution_count": null,
      "id": "fdf8892f",
      "metadata": {
        "id": "fdf8892f"
      },
      "outputs": [],
      "source": [
        "def restart():\n",
        "    os.system(\"shutdown /r /t 1\")\n",
        "def restart_time():\n",
        "    os.system(\"shutdown /r /t 20\")\n",
        "def shutdown():\n",
        "    os.system(\"shutdown /s /t 1\")\n",
        "\n",
        "st=Tk()\n",
        "st.title(\"ShutDown App\")\n",
        "st.geometry(\"500x400\")\n",
        "st.config(bg=\"Blue\")\n",
        "\n",
        "restart=Button(st,text=\"Restart\",font=(\"bold\",20),relief=RAISED,cursor=\"plus\",command=restart)\n",
        "restart.place(x=180,y=30,height=40,width=150)\n",
        "\n",
        "time_restart=Button(st,text=\"Restart Time\",font=(\"bold\",20),relief=RAISED,cursor=\"plus\",command=restart_time)\n",
        "time_restart.place(x=160,y=120,height=40,width=180)\n",
        "\n",
        "\n",
        "shutdown=Button(st,text=\"ShutDown\",font=(\"bold\",20),relief=RAISED,cursor=\"plus\",command=shutdown)\n",
        "shutdown.place(x=175,y=205,height=40,width=150)\n",
        "\n",
        "\n",
        "st.mainloop()"
      ]
    },
    {
      "cell_type": "code",
      "execution_count": null,
      "id": "6f399a12",
      "metadata": {
        "id": "6f399a12"
      },
      "outputs": [],
      "source": []
    },
    {
      "cell_type": "code",
      "execution_count": null,
      "id": "8c570424",
      "metadata": {
        "id": "8c570424"
      },
      "outputs": [],
      "source": []
    },
    {
      "cell_type": "code",
      "execution_count": null,
      "id": "a3426e8a",
      "metadata": {
        "id": "a3426e8a"
      },
      "outputs": [],
      "source": []
    }
  ],
  "metadata": {
    "kernelspec": {
      "display_name": "Python 3 (ipykernel)",
      "language": "python",
      "name": "python3"
    },
    "language_info": {
      "codemirror_mode": {
        "name": "ipython",
        "version": 3
      },
      "file_extension": ".py",
      "mimetype": "text/x-python",
      "name": "python",
      "nbconvert_exporter": "python",
      "pygments_lexer": "ipython3",
      "version": "3.9.12"
    },
    "colab": {
      "provenance": [],
      "include_colab_link": true
    }
  },
  "nbformat": 4,
  "nbformat_minor": 5
}